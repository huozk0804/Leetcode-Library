{
 "cells": [
  {
   "attachments": {},
   "cell_type": "markdown",
   "metadata": {},
   "source": [
    "# 217. 存在重复元素\n",
    "\n",
    "给你一个整数数组 nums 。如果任一值在数组中出现 至少两次 ，返回 true ；如果数组中每个元素互不相同，返回 false 。\n",
    " \n",
    "\n",
    "示例 1：\n",
    "\n",
    "`输入：nums = [1,2,3,1]`\n",
    "\n",
    "`输出：true`\n",
    "\n",
    "示例 2：\n",
    "\n",
    "`输入：nums = [1,2,3,4]`\n",
    "\n",
    "`输出：false`\n",
    "\n",
    "示例 3：\n",
    "\n",
    "`输入：nums = [1,1,1,3,3,4,3,2,4,2]`\n",
    "`输出：true`\n",
    " \n",
    "\n",
    "提示：\n",
    "\n",
    "`1 <= nums.length <= 105`\n",
    "\n",
    "`-109 <= nums[i] <= 109`"
   ]
  },
  {
   "cell_type": "code",
   "execution_count": null,
   "metadata": {},
   "outputs": [],
   "source": []
  }
 ],
 "metadata": {
  "language_info": {
   "name": "python"
  },
  "orig_nbformat": 4
 },
 "nbformat": 4,
 "nbformat_minor": 2
}
