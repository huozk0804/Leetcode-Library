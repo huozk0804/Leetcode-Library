{
 "cells": [
  {
   "attachments": {},
   "cell_type": "markdown",
   "metadata": {},
   "source": [
    "## 217. 存在重复元素\n",
    "\n",
    "给你一个整数数组 nums 。如果任一值在数组中出现 至少两次 ，返回 true ；如果数组中每个元素互不相同，返回 false 。\n",
    " \n",
    "\n",
    "示例 1：  \n",
    "```\n",
    "输入：nums = [1,2,3,1]\n",
    "输出：true\n",
    "```\n",
    "\n",
    "示例 2：  \n",
    "```\n",
    "输入：nums = [1,2,3,4]\n",
    "输出：false\n",
    "```\n",
    "\n",
    "示例 3：\n",
    "```\n",
    "输入：nums = [1,1,1,3,3,4,3,2,4,2]\n",
    "输出：true\n",
    "```\n",
    "\n",
    "提示：  \n",
    "```\n",
    "1 <= nums.length <= 105\n",
    "-109 <= nums[i] <= 109\n",
    "```"
   ]
  },
  {
   "cell_type": "code",
   "execution_count": null,
   "metadata": {},
   "outputs": [],
   "source": []
  }
 ],
 "metadata": {
  "kernelspec": {
   "display_name": "Python 3.9.13 ('base')",
   "language": "python",
   "name": "python3"
  },
  "language_info": {
   "name": "python",
   "version": "3.9.16"
  },
  "orig_nbformat": 4,
  "vscode": {
   "interpreter": {
    "hash": "ced987a247890006fadb174404bf884c2606133e9ca5a8bdda00b49ca7b4dc36"
   }
  }
 },
 "nbformat": 4,
 "nbformat_minor": 2
}
