{
 "cells": [
  {
   "cell_type": "markdown",
   "metadata": {},
   "source": [
    "## 2236. 判断根结点是否等于子结点之和\n",
    "\n",
    "给你一个 **二叉树** 的根结点 `root`，该二叉树由恰好 `3` 个结点组成：根结点、左子结点和右子结点。\n",
    "\n",
    "如果根结点值等于两个子结点值之和，返回 `true` ，否则返回 `false` 。\n",
    "\n",
    "示例 1：  \n",
    "\n",
    "![](https://assets.leetcode.com/uploads/2022/04/08/graph3drawio.png)\n",
    "\n",
    "```\n",
    "输入：root = [10,4,6]\n",
    "输出：true\n",
    "解释：根结点、左子结点和右子结点的值分别是 10 、4 和 6 。\n",
    "由于 10 等于 4 + 6 ，因此返回 true 。\n",
    "```\n",
    "\n",
    "示例 2：  \n",
    "\n",
    "![](https://assets.leetcode.com/uploads/2022/04/08/graph3drawio-1.png)\n",
    "\n",
    "```\n",
    "输入：root = [5,3,1]\n",
    "输出：false\n",
    "解释：根结点、左子结点和右子结点的值分别是 5 、3 和 1 。\n",
    "由于 5 不等于 3 + 1 ，因此返回 false 。\n",
    "```\n",
    " "
   ]
  },
  {
   "cell_type": "code",
   "execution_count": null,
   "metadata": {},
   "outputs": [],
   "source": [
    "# Definition for a binary tree node.\n",
    "# class TreeNode(object):\n",
    "#     def __init__(self, val=0, left=None, right=None):\n",
    "#         self.val = val\n",
    "#         self.left = left\n",
    "#         self.right = right\n",
    "class Solution(object):\n",
    "    def checkTree(self, root):\n",
    "        \"\"\"\n",
    "        :type root: Optional[TreeNode]\n",
    "        :rtype: bool\n",
    "        \"\"\"\n",
    "        return root.val == root.left.val + root.right.val"
   ]
  }
 ],
 "metadata": {
  "kernelspec": {
   "display_name": "Python 3.9.16 ('base')",
   "language": "python",
   "name": "python3"
  },
  "language_info": {
   "name": "python",
   "version": "3.9.16"
  },
  "orig_nbformat": 4,
  "vscode": {
   "interpreter": {
    "hash": "ced987a247890006fadb174404bf884c2606133e9ca5a8bdda00b49ca7b4dc36"
   }
  }
 },
 "nbformat": 4,
 "nbformat_minor": 2
}
