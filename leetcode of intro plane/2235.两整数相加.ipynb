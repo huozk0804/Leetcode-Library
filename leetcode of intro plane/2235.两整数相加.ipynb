{
 "cells": [
  {
   "cell_type": "markdown",
   "metadata": {},
   "source": [
    "## 2235.两整数相加\n",
    "\n",
    "给你两个整数 num1 和 num2，返回这两个整数的和。\n",
    "\n",
    "示例 1：\n",
    "\n",
    "```\n",
    "输入：num1 = 12, num2 = 5\n",
    "输出：17\n",
    "解释：num1 是 12，num2 是 5 ，它们的和是 12 + 5 = 17 ，因此返回 17 。\n",
    "```\n",
    "\n",
    "示例 2：\n",
    "\n",
    "```\n",
    "输入：num1 = -10, num2 = 4\n",
    "输出：-6\n",
    "解释：num1 + num2 = -6 ，因此返回 -6 。\n",
    "```"
   ]
  },
  {
   "cell_type": "code",
   "execution_count": 1,
   "metadata": {},
   "outputs": [],
   "source": [
    "class Solution(object):\n",
    "    def sum(self, num1, num2):\n",
    "        \"\"\"\n",
    "        :type num1: int\n",
    "        :type num2: int\n",
    "        :rtype: int\n",
    "        \"\"\"\n",
    "        return num1 + num2"
   ]
  }
 ],
 "metadata": {
  "kernelspec": {
   "display_name": "Python 3.9.16 ('base')",
   "language": "python",
   "name": "python3"
  },
  "language_info": {
   "codemirror_mode": {
    "name": "ipython",
    "version": 3
   },
   "file_extension": ".py",
   "mimetype": "text/x-python",
   "name": "python",
   "nbconvert_exporter": "python",
   "pygments_lexer": "ipython3",
   "version": "3.9.16"
  },
  "orig_nbformat": 4,
  "vscode": {
   "interpreter": {
    "hash": "ced987a247890006fadb174404bf884c2606133e9ca5a8bdda00b49ca7b4dc36"
   }
  }
 },
 "nbformat": 4,
 "nbformat_minor": 2
}
