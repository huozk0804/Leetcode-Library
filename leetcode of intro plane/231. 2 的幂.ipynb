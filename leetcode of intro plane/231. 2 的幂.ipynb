{
 "cells": [
  {
   "cell_type": "markdown",
   "metadata": {},
   "source": [
    "## 231. 2 的幂\n",
    "\n",
    "给你一个整数 `n`，请你判断该整数是否是 `2` 的幂次方。如果是，返回 true ；否则，返回 false 。\n",
    "\n",
    "如果存在一个整数 `x` 使得 `n == 2x` ，则认为 `n` 是 `2` 的幂次方。\n",
    "\n",
    "示例 1：\n",
    "\n",
    "```\n",
    "输入：n = 1\n",
    "输出：true\n",
    "解释：20 = 1\n",
    "```\n",
    "\n",
    "示例 2：\n",
    "\n",
    "```\n",
    "输入：n = 16\n",
    "输出：true\n",
    "解释：24 = 16\n",
    "```\n",
    "\n",
    "示例 3：\n",
    "\n",
    "```\n",
    "输入：n = 3\n",
    "输出：false\n",
    "```\n",
    "\n",
    "示例 4：\n",
    "\n",
    "```\n",
    "输入：n = 4\n",
    "输出：true\n",
    "```\n",
    "\n",
    "示例 5：\n",
    "\n",
    "```\n",
    "输入：n = 5\n",
    "输出：false\n",
    "```"
   ]
  },
  {
   "cell_type": "code",
   "execution_count": 6,
   "metadata": {},
   "outputs": [
    {
     "data": {
      "text/plain": [
       "True"
      ]
     },
     "execution_count": 6,
     "metadata": {},
     "output_type": "execute_result"
    }
   ],
   "source": [
    "# 二进制表示法，去掉底数可能出现的1，然后进行位运算，进而比较是否都为0\n",
    "\n",
    "class Solution(object):\n",
    "    def isPowerOfTwo(self, n):\n",
    "        \"\"\"\n",
    "        :type n: int\n",
    "        :rtype: bool\n",
    "        \"\"\"\n",
    "        return n > 0 and (n & (n - 1)) == 0\n",
    "\n",
    "Solution.isPowerOfTwo(1,0)"
   ]
  },
  {
   "cell_type": "code",
   "execution_count": 7,
   "metadata": {},
   "outputs": [
    {
     "data": {
      "text/plain": [
       "True"
      ]
     },
     "execution_count": 7,
     "metadata": {},
     "output_type": "execute_result"
    }
   ],
   "source": [
    "class Solution(object):\n",
    "    def isPowerOfTwo(self, n):\n",
    "        \"\"\"\n",
    "        :type n: int\n",
    "        :rtype: bool\n",
    "        \"\"\"\n",
    "        return n > 0 and (n & -n) == n\n",
    "\n",
    "Solution.isPowerOfTwo(1,0)"
   ]
  },
  {
   "cell_type": "markdown",
   "metadata": {},
   "source": [
    "一个数 n 是 2 的幂，当且仅当 n 是正整数，并且 nnn 的二进制表示中仅包含 1 个 1。  \n",
    "\n",
    "因此我们可以考虑使用位运算，将 n 的二进制表示中最低位的那个 1 提取出来，再判断剩余的数值是否为 0 即可。\n",
    "\n",
    "---\n",
    "\n",
    "其中 −n 是 n 的相反数，是一个负数。该位运算技巧可以直接获取 n 二进制表示的最低位的 1。\n",
    "\n",
    "由于负数是按照补码规则在计算机中存储的，−n 的二进制表示为 n 的二进制表示的每一位取反再加上 1，因此它的原理如下。"
   ]
  },
  {
   "cell_type": "code",
   "execution_count": null,
   "metadata": {},
   "outputs": [],
   "source": [
    "class Solution(object):\n",
    "\n",
    "    BIG = 2**30\n",
    "\n",
    "    def isPowerOfTwo(self, n):\n",
    "        \"\"\"\n",
    "        :type n: int\n",
    "        :rtype: bool\n",
    "        \"\"\"\n",
    "        return n > 0 and Solution.BIG % n == 0\n",
    "\n",
    "Solution.isPowerOfTwo(1,0)"
   ]
  },
  {
   "cell_type": "markdown",
   "metadata": {},
   "source": [
    "除了使用二进制表示判断之外，还有一种较为取巧的做法。\n",
    "\n",
    "在题目给定的 32 位有符号整数的范围内，最大的 2 的幂为 $2^{30} = 1073741824$。我们只需要判断 n 是否是 $2^{30}$ 的约数即可。"
   ]
  }
 ],
 "metadata": {
  "kernelspec": {
   "display_name": "Python 3.9.16 ('base')",
   "language": "python",
   "name": "python3"
  },
  "language_info": {
   "codemirror_mode": {
    "name": "ipython",
    "version": 3
   },
   "file_extension": ".py",
   "mimetype": "text/x-python",
   "name": "python",
   "nbconvert_exporter": "python",
   "pygments_lexer": "ipython3",
   "version": "3.9.16"
  },
  "orig_nbformat": 4,
  "vscode": {
   "interpreter": {
    "hash": "ced987a247890006fadb174404bf884c2606133e9ca5a8bdda00b49ca7b4dc36"
   }
  }
 },
 "nbformat": 4,
 "nbformat_minor": 2
}
