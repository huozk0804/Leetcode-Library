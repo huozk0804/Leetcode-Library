{
 "cells": [
  {
   "cell_type": "markdown",
   "metadata": {},
   "source": [
    "## 263. 丑数\n",
    "\n",
    "丑数 就是只包含质因数 2、3 和 5 的正整数。\n",
    "\n",
    "给你一个整数 n ，请你判断 n 是否为 丑数 。如果是，返回 true ；否则，返回 false 。\n",
    "\n",
    "示例 1：\n",
    "\n",
    "```\n",
    "输入：n = 6\n",
    "输出：true\n",
    "解释：6 = 2 × 3\n",
    "```\n",
    "\n",
    "示例 2：\n",
    "\n",
    "```\n",
    "输入：n = 1\n",
    "输出：true\n",
    "解释：1 没有质因数，因此它的全部质因数是 {2, 3, 5} 的空集。习惯上将其视作第一个丑数。\n",
    "```\n",
    "\n",
    "示例 3：\n",
    "\n",
    "```\n",
    "输入：n = 14\n",
    "输出：false\n",
    "解释：14 不是丑数，因为它包含了另外一个质因数 7 。\n",
    "```"
   ]
  },
  {
   "cell_type": "code",
   "execution_count": 9,
   "metadata": {},
   "outputs": [
    {
     "data": {
      "text/plain": [
       "False"
      ]
     },
     "execution_count": 9,
     "metadata": {},
     "output_type": "execute_result"
    }
   ],
   "source": [
    "class Solution(object):\n",
    "    def isUgly(self, n):\n",
    "        \"\"\"\n",
    "        :type n: int\n",
    "        :rtype: bool\n",
    "        \"\"\"\n",
    "        if n <= 0:\n",
    "            return False\n",
    "\n",
    "        factors = [2, 3, 5]\n",
    "        for factor in factors:\n",
    "            while n % factor == 0:\n",
    "                n //= factor\n",
    "        \n",
    "        return n == 1\n",
    "\n",
    "Solution.isUgly(1,14)"
   ]
  }
 ],
 "metadata": {
  "kernelspec": {
   "display_name": "Python 3.9.16 ('base')",
   "language": "python",
   "name": "python3"
  },
  "language_info": {
   "codemirror_mode": {
    "name": "ipython",
    "version": 3
   },
   "file_extension": ".py",
   "mimetype": "text/x-python",
   "name": "python",
   "nbconvert_exporter": "python",
   "pygments_lexer": "ipython3",
   "version": "3.9.16"
  },
  "orig_nbformat": 4,
  "vscode": {
   "interpreter": {
    "hash": "ced987a247890006fadb174404bf884c2606133e9ca5a8bdda00b49ca7b4dc36"
   }
  }
 },
 "nbformat": 4,
 "nbformat_minor": 2
}
