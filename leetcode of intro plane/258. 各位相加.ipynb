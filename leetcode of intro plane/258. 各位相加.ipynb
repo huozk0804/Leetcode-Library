{
 "cells": [
  {
   "cell_type": "markdown",
   "metadata": {},
   "source": [
    "## 258. 各位相加\n",
    "\n",
    "给定一个非负整数 num，反复将各个位上的数字相加，直到结果为一位数。返回这个结果。\n",
    "\n",
    "示例 1:\n",
    "\n",
    "```\n",
    "输入: num = 38\n",
    "输出: 2 \n",
    "解释: 各位相加的过程为：\n",
    "38 --> 3 + 8 --> 11\n",
    "11 --> 1 + 1 --> 2\n",
    "由于 2 是一位数，所以返回 2。\n",
    "```\n",
    "\n",
    "示例 2:\n",
    "\n",
    "```\n",
    "输入: num = 0\n",
    "输出: 0\n",
    "```"
   ]
  },
  {
   "cell_type": "code",
   "execution_count": 2,
   "metadata": {},
   "outputs": [
    {
     "data": {
      "text/plain": [
       "2"
      ]
     },
     "execution_count": 2,
     "metadata": {},
     "output_type": "execute_result"
    }
   ],
   "source": [
    "class Solution(object):\n",
    "    def addDigits(self, num):\n",
    "        \"\"\"\n",
    "        :type num: int\n",
    "        :rtype: int\n",
    "        \"\"\"\n",
    "        while num >= 10:\n",
    "            sum = 0\n",
    "            while num:\n",
    "                sum += num % 10\n",
    "                num //= 10\n",
    "            num = sum\n",
    "        return num\n",
    "\n",
    "Solution.addDigits(1, 38)\n"
   ]
  },
  {
   "cell_type": "code",
   "execution_count": 3,
   "metadata": {},
   "outputs": [
    {
     "data": {
      "text/plain": [
       "2"
      ]
     },
     "execution_count": 3,
     "metadata": {},
     "output_type": "execute_result"
    }
   ],
   "source": [
    "class Solution(object):\n",
    "    def addDigits(self, num):\n",
    "        \"\"\"\n",
    "        :type num: int\n",
    "        :rtype: int\n",
    "        \"\"\"\n",
    "        return (num - 1) % 9 + 1 if num else 0\n",
    "\n",
    "Solution.addDigits(1, 38)"
   ]
  }
 ],
 "metadata": {
  "kernelspec": {
   "display_name": "Python 3.9.16 ('base')",
   "language": "python",
   "name": "python3"
  },
  "language_info": {
   "codemirror_mode": {
    "name": "ipython",
    "version": 3
   },
   "file_extension": ".py",
   "mimetype": "text/x-python",
   "name": "python",
   "nbconvert_exporter": "python",
   "pygments_lexer": "ipython3",
   "version": "3.9.16"
  },
  "orig_nbformat": 4,
  "vscode": {
   "interpreter": {
    "hash": "ced987a247890006fadb174404bf884c2606133e9ca5a8bdda00b49ca7b4dc36"
   }
  }
 },
 "nbformat": 4,
 "nbformat_minor": 2
}
