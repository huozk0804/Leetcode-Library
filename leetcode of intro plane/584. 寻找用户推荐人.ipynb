{
 "cells": [
  {
   "cell_type": "markdown",
   "metadata": {},
   "source": [
    "## 584. 寻找用户推荐人\n",
    "\n",
    "给定表 customer ，里面保存了所有客户信息和他们的推荐人。\n",
    "\n",
    "```\n",
    "Create table If Not Exists Customer (id int, name varchar(25), referee_id int)\n",
    "Truncate table Customer\n",
    "insert into Customer (id, name, referee_id) values ('1', 'Will', 'None')\n",
    "insert into Customer (id, name, referee_id) values ('2', 'Jane', 'None')\n",
    "insert into Customer (id, name, referee_id) values ('3', 'Alex', '2')\n",
    "insert into Customer (id, name, referee_id) values ('4', 'Bill', 'None')\n",
    "insert into Customer (id, name, referee_id) values ('5', 'Zack', '1')\n",
    "insert into Customer (id, name, referee_id) values ('6', 'Mark', '2')\n",
    "```\n",
    "\n",
    "\n",
    "```\n",
    "+------+------+-----------+\n",
    "| id   | name | referee_id|\n",
    "+------+------+-----------+\n",
    "|    1 | Will |      NULL |\n",
    "|    2 | Jane |      NULL |\n",
    "|    3 | Alex |         2 |\n",
    "|    4 | Bill |      NULL |\n",
    "|    5 | Zack |         1 |\n",
    "|    6 | Mark |         2 |\n",
    "+------+------+-----------+\n",
    "```\n",
    "\n",
    "写一个查询语句，返回一个客户列表，列表中客户的推荐人的编号都 不是 2。\n",
    "\n",
    "对于上面的示例数据，结果为：\n",
    "\n",
    "```\n",
    "+------+\n",
    "| name |\n",
    "+------+\n",
    "| Will |\n",
    "| Jane |\n",
    "| Bill |\n",
    "| Zack |\n",
    "+------+\n",
    "```"
   ]
  },
  {
   "cell_type": "code",
   "execution_count": null,
   "metadata": {},
   "outputs": [],
   "source": [
    "# mysql\n",
    "SELECT name FROM customer WHERE referee_id != 2 OR referee_id IS NULL;"
   ]
  },
  {
   "cell_type": "code",
   "execution_count": null,
   "metadata": {},
   "outputs": [],
   "source": [
    "#mysql\n",
    "select name from customer where ifnull(referee_id,0)!=2;"
   ]
  }
 ],
 "metadata": {
  "kernelspec": {
   "display_name": "Python 3.9.16 ('base')",
   "language": "python",
   "name": "python3"
  },
  "language_info": {
   "name": "python",
   "version": "3.9.16"
  },
  "orig_nbformat": 4,
  "vscode": {
   "interpreter": {
    "hash": "ced987a247890006fadb174404bf884c2606133e9ca5a8bdda00b49ca7b4dc36"
   }
  }
 },
 "nbformat": 4,
 "nbformat_minor": 2
}
