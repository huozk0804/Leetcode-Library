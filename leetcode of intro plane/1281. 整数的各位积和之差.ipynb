{
 "cells": [
  {
   "cell_type": "markdown",
   "metadata": {},
   "source": [
    "## 1281. 整数的各位积和之差\n",
    "\n",
    "给你一个整数 n，请你帮忙计算并返回该整数「各位数字之积」与「各位数字之和」的差。\n",
    "\n",
    "示例 1：\n",
    "\n",
    "```\n",
    "输入：n = 234\n",
    "输出：15 \n",
    "解释：\n",
    "各位数之积 = 2 * 3 * 4 = 24 \n",
    "各位数之和 = 2 + 3 + 4 = 9 \n",
    "结果 = 24 - 9 = 15\n",
    "```\n",
    "\n",
    "示例 2：\n",
    "\n",
    "```\n",
    "输入：n = 4421\n",
    "输出：21\n",
    "解释： \n",
    "各位数之积 = 4 * 4 * 2 * 1 = 32 \n",
    "各位数之和 = 4 + 4 + 2 + 1 = 11 \n",
    "结果 = 32 - 11 = 21\n",
    "```"
   ]
  },
  {
   "cell_type": "code",
   "execution_count": 3,
   "metadata": {},
   "outputs": [
    {
     "data": {
      "text/plain": [
       "15"
      ]
     },
     "execution_count": 3,
     "metadata": {},
     "output_type": "execute_result"
    }
   ],
   "source": [
    "class Solution(object):\n",
    "    def subtractProductAndSum(self, n):\n",
    "        \"\"\"\n",
    "        :type n: int\n",
    "        :rtype: int\n",
    "        \"\"\"\n",
    "        sum = 0\n",
    "        product = 1\n",
    "        for x in str(n):\n",
    "            sum += int(x)\n",
    "            product *= int(x)\n",
    "        \n",
    "        return product - sum\n",
    "\n",
    "Solution.subtractProductAndSum(1,234)"
   ]
  }
 ],
 "metadata": {
  "kernelspec": {
   "display_name": "Python 3.9.16 ('base')",
   "language": "python",
   "name": "python3"
  },
  "language_info": {
   "codemirror_mode": {
    "name": "ipython",
    "version": 3
   },
   "file_extension": ".py",
   "mimetype": "text/x-python",
   "name": "python",
   "nbconvert_exporter": "python",
   "pygments_lexer": "ipython3",
   "version": "3.9.16"
  },
  "orig_nbformat": 4,
  "vscode": {
   "interpreter": {
    "hash": "ced987a247890006fadb174404bf884c2606133e9ca5a8bdda00b49ca7b4dc36"
   }
  }
 },
 "nbformat": 4,
 "nbformat_minor": 2
}
