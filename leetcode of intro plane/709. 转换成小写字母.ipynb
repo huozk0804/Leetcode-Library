{
 "cells": [
  {
   "cell_type": "markdown",
   "metadata": {},
   "source": [
    "## 709. 转换成小写字母\n",
    "\n",
    "给你一个字符串 s ，将该字符串中的大写字母转换成相同的小写字母，返回新的字符串。\n",
    "\n",
    "示例 1：\n",
    "\n",
    "```\n",
    "输入：s = \"Hello\"\n",
    "输出：\"hello\"\n",
    "```\n",
    "\n",
    "示例 2：\n",
    "\n",
    "```\n",
    "输入：s = \"here\"\n",
    "输出：\"here\"\n",
    "```\n",
    "\n",
    "示例 3：\n",
    "\n",
    "```\n",
    "输入：s = \"LOVELY\"\n",
    "输出：\"lovely\"\n",
    "```"
   ]
  },
  {
   "cell_type": "code",
   "execution_count": null,
   "metadata": {},
   "outputs": [],
   "source": [
    "class Solution(object):\n",
    "    def toLowerCase(self, s):\n",
    "        \"\"\"\n",
    "        :type s: str\n",
    "        :rtype: str\n",
    "        \"\"\"\n",
    "        return s.lower()"
   ]
  },
  {
   "cell_type": "code",
   "execution_count": 1,
   "metadata": {},
   "outputs": [],
   "source": [
    "class Solution(object):\n",
    "    def toLowerCase(self, s):\n",
    "        \"\"\"\n",
    "        :type s: str\n",
    "        :rtype: str\n",
    "        \"\"\"\n",
    "        return \"\".join(chr(asc | 32) if 65 <= (asc := ord(ch)) <= 90 else ch for ch in s)"
   ]
  }
 ],
 "metadata": {
  "kernelspec": {
   "display_name": "Python 3.9.16 ('base')",
   "language": "python",
   "name": "python3"
  },
  "language_info": {
   "codemirror_mode": {
    "name": "ipython",
    "version": 3
   },
   "file_extension": ".py",
   "mimetype": "text/x-python",
   "name": "python",
   "nbconvert_exporter": "python",
   "pygments_lexer": "ipython3",
   "version": "3.9.16"
  },
  "orig_nbformat": 4,
  "vscode": {
   "interpreter": {
    "hash": "ced987a247890006fadb174404bf884c2606133e9ca5a8bdda00b49ca7b4dc36"
   }
  }
 },
 "nbformat": 4,
 "nbformat_minor": 2
}
