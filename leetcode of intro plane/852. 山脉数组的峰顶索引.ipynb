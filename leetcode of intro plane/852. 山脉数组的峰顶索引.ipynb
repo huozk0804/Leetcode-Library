{
 "cells": [
  {
   "cell_type": "markdown",
   "metadata": {},
   "source": [
    "## 852. 山脉数组的峰顶索引\n",
    "\n",
    "符合下列属性的数组 arr 称为 山脉数组 ：\n",
    "* arr.length >= 3\n",
    "* 存在 i（0 < i < arr.length - 1）使得：\n",
    "    * arr[0] < arr[1] < ... arr[i-1] < arr[i] \n",
    "    * arr[i] > arr[i+1] > ... > arr[arr.length - 1]\n",
    "给你由整数组成的山脉数组 arr ，返回满足 `arr[0] < arr[1] < ... arr[i - 1] < arr[i] > arr[i + 1] > ... > arr[arr.length - 1]` 的下标 i 。\n",
    "\n",
    "你必须设计并实现时间复杂度为 `O(log(n))` 的解决方案。\n",
    "\n",
    "示例 1：\n",
    "\n",
    "```\n",
    "输入：arr = [0,1,0]\n",
    "输出：1\n",
    "```\n",
    "示例 2：\n",
    "```\n",
    "输入：arr = [0,2,1,0]\n",
    "输出：1\n",
    "```\n",
    "示例 3：\n",
    "```\n",
    "输入：arr = [0,10,5,2]\n",
    "输出：1\n",
    "```"
   ]
  },
  {
   "cell_type": "code",
   "execution_count": null,
   "metadata": {},
   "outputs": [],
   "source": [
    "class Solution(object):\n",
    "    def peakIndexInMountainArray(self, arr):\n",
    "        \"\"\"\n",
    "        :type arr: List[int]\n",
    "        :rtype: int\n",
    "        \"\"\"\n",
    "        n = len(arr)\n",
    "        left, right, ans = 1, n - 2, 0\n",
    "\n",
    "        while left <= right:\n",
    "            mid = (left + right) // 2\n",
    "            if arr[mid] > arr[mid + 1]:\n",
    "                ans = mid\n",
    "                right = mid - 1\n",
    "            else:\n",
    "                left = mid + 1\n",
    "        \n",
    "        return ans"
   ]
  },
  {
   "cell_type": "markdown",
   "metadata": {},
   "source": [
    "## 二分查找法\n",
    "\n",
    "记满足题目要求的下标 i 为 $i_ans$。我们可以发现：\n",
    "\n",
    "* 当 $i<i_{ans}$ 时，$arr_i<arr_{i+1}$ 恒成立；\n",
    "\n",
    "* 当 $i≥i_{ans}$ 时，$arr_i > arr_{i+1}$ 恒成立。\n",
    "\n",
    "这与方法一的遍历过程也是一致的，因此 $i_{ans}$即为「最小的满足 $arr_i>arr_{i+1}$的下标 i」，我们可以用二分查找的方法来找出 $i_{ans}$。"
   ]
  }
 ],
 "metadata": {
  "language_info": {
   "name": "python"
  },
  "orig_nbformat": 4
 },
 "nbformat": 4,
 "nbformat_minor": 2
}
