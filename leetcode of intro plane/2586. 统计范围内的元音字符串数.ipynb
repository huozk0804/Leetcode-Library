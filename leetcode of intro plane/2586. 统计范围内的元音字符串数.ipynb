{
 "cells": [
  {
   "cell_type": "markdown",
   "metadata": {},
   "source": [
    "## 2586. 统计范围内的元音字符串数\n",
    "\n",
    "给你一个下标从 0 开始的字符串数组 words 和两个整数：left 和 right 。\n",
    "\n",
    "如果字符串以元音字母开头并以元音字母结尾，那么该字符串就是一个 元音字符串 ，其中元音字母是 'a'、'e'、'i'、'o'、'u' 。\n",
    "\n",
    "返回 words[i] 是元音字符串的数目，其中 i 在闭区间 [left, right] 内。\n",
    "\n",
    "示例 1：\n",
    "\n",
    "```\n",
    "输入：words = [\"are\",\"amy\",\"u\"], left = 0, right = 2\n",
    "输出：2\n",
    "解释：\n",
    "- \"are\" 是一个元音字符串，因为它以 'a' 开头并以 'e' 结尾。\n",
    "- \"amy\" 不是元音字符串，因为它没有以元音字母结尾。\n",
    "- \"u\" 是一个元音字符串，因为它以 'u' 开头并以 'u' 结尾。\n",
    "在上述范围中的元音字符串数目为 2 。\n",
    "```\n",
    "示例 2：\n",
    "\n",
    "```\n",
    "输入：words = [\"hey\",\"aeo\",\"mu\",\"ooo\",\"artro\"], left = 1, right = 4\n",
    "输出：3\n",
    "解释：\n",
    "- \"aeo\" 是一个元音字符串，因为它以 'a' 开头并以 'o' 结尾。\n",
    "- \"mu\" 不是元音字符串，因为它没有以元音字母开头。\n",
    "- \"ooo\" 是一个元音字符串，因为它以 'o' 开头并以 'o' 结尾。\n",
    "- \"artro\" 是一个元音字符串，因为它以 'a' 开头并以 'o' 结尾。\n",
    "在上述范围中的元音字符串数目为 3 。\n",
    "```"
   ]
  },
  {
   "cell_type": "code",
   "execution_count": 3,
   "metadata": {},
   "outputs": [
    {
     "data": {
      "text/plain": [
       "3"
      ]
     },
     "execution_count": 3,
     "metadata": {},
     "output_type": "execute_result"
    }
   ],
   "source": [
    "class Solution(object):\n",
    "    def vowelStrings(self, words, left, right):\n",
    "        \"\"\"\n",
    "        :type words: List[str]\n",
    "        :type left: int\n",
    "        :type right: int\n",
    "        :rtype: int\n",
    "        \"\"\"\n",
    "        a = ['a','e','i','o','u']\n",
    "        count = 0\n",
    "        for x in words[left: right + 1]:\n",
    "            if x[0] in a and x[-1] in a:\n",
    "                count += 1\n",
    "        return count\n",
    "\n",
    "Solution.vowelStrings(1,[\"hey\",\"aeo\",\"mu\",\"ooo\",\"artro\"],1,4)"
   ]
  },
  {
   "cell_type": "code",
   "execution_count": 4,
   "metadata": {},
   "outputs": [
    {
     "data": {
      "text/plain": [
       "3"
      ]
     },
     "execution_count": 4,
     "metadata": {},
     "output_type": "execute_result"
    }
   ],
   "source": [
    "class Solution(object):\n",
    "    def vowelStrings(self, words, left, right):\n",
    "        \"\"\"\n",
    "        :type words: List[str]\n",
    "        :type left: int\n",
    "        :type right: int\n",
    "        :rtype: int\n",
    "        \"\"\"\n",
    "        return sum(s[0] in \"aeiou\" and s[-1] in \"aeiou\" for s in words[left:right+1])\n",
    "\n",
    "Solution.vowelStrings(1,[\"hey\",\"aeo\",\"mu\",\"ooo\",\"artro\"],1,4)"
   ]
  }
 ],
 "metadata": {
  "kernelspec": {
   "display_name": "Python 3.9.16 ('base')",
   "language": "python",
   "name": "python3"
  },
  "language_info": {
   "codemirror_mode": {
    "name": "ipython",
    "version": 3
   },
   "file_extension": ".py",
   "mimetype": "text/x-python",
   "name": "python",
   "nbconvert_exporter": "python",
   "pygments_lexer": "ipython3",
   "version": "3.9.16"
  },
  "orig_nbformat": 4,
  "vscode": {
   "interpreter": {
    "hash": "ced987a247890006fadb174404bf884c2606133e9ca5a8bdda00b49ca7b4dc36"
   }
  }
 },
 "nbformat": 4,
 "nbformat_minor": 2
}
