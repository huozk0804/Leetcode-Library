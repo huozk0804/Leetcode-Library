{
 "cells": [
  {
   "cell_type": "markdown",
   "metadata": {},
   "source": [
    "## 1534. 统计好三元组\n",
    "\n",
    "给你一个整数数组 arr ，以及 a、b 、c 三个整数。请你统计其中好三元组的数量。\n",
    "\n",
    "如果三元组 `(arr[i], arr[j], arr[k])` 满足下列全部条件，则认为它是一个 好三元组 。\n",
    "\n",
    "* `0 <= i < j < k < arr.length`\n",
    "* `|arr[i] - arr[j]| <= a`\n",
    "* `|arr[j] - arr[k]| <= b`\n",
    "* `|arr[i] - arr[k]| <= c`\n",
    "其中 |x| 表示 x 的绝对值。\n",
    "\n",
    "返回 好三元组的数量 。\n",
    "\n",
    "示例 1：\n",
    "\n",
    "```\n",
    "输入：arr = [3,0,1,1,9,7], a = 7, b = 2, c = 3\n",
    "输出：4\n",
    "解释：一共有 4 个好三元组：[(3,0,1), (3,0,1), (3,1,1), (0,1,1)] 。\n",
    "```\n",
    "\n",
    "示例 2：\n",
    "\n",
    "```\n",
    "输入：arr = [1,1,2,2,3], a = 0, b = 0, c = 1\n",
    "输出：0\n",
    "解释：不存在满足所有条件的三元组。\n",
    "```"
   ]
  },
  {
   "cell_type": "code",
   "execution_count": 5,
   "metadata": {},
   "outputs": [
    {
     "data": {
      "text/plain": [
       "4"
      ]
     },
     "execution_count": 5,
     "metadata": {},
     "output_type": "execute_result"
    }
   ],
   "source": [
    "import math\n",
    "\n",
    "class Solution(object):\n",
    "    def countGoodTriplets(self, arr, a, b, c):\n",
    "        \"\"\"\n",
    "        :type arr: List[int]\n",
    "        :type a: int\n",
    "        :type b: int\n",
    "        :type c: int\n",
    "        :rtype: int\n",
    "        \"\"\" \n",
    "        sum = 0\n",
    "        length = len(arr)\n",
    "        for i in range(length):\n",
    "            for j in range(i + 1, length):\n",
    "                if abs(arr[i] - arr[j]) <= a:\n",
    "                    for k in range(j + 1, length):\n",
    "                        v2 = abs(arr[j] - arr[k])\n",
    "                        v3 = abs(arr[i] - arr[k])\n",
    "                        if v2 <= b and v3 <= c:\n",
    "                            sum += 1\n",
    "        return sum\n",
    "\n",
    "Solution.countGoodTriplets(1, [3,0,1,1,9,7], 7, 2, 3)"
   ]
  }
 ],
 "metadata": {
  "kernelspec": {
   "display_name": "Python 3.9.16 ('base')",
   "language": "python",
   "name": "python3"
  },
  "language_info": {
   "codemirror_mode": {
    "name": "ipython",
    "version": 3
   },
   "file_extension": ".py",
   "mimetype": "text/x-python",
   "name": "python",
   "nbconvert_exporter": "python",
   "pygments_lexer": "ipython3",
   "version": "3.9.16"
  },
  "orig_nbformat": 4,
  "vscode": {
   "interpreter": {
    "hash": "ced987a247890006fadb174404bf884c2606133e9ca5a8bdda00b49ca7b4dc36"
   }
  }
 },
 "nbformat": 4,
 "nbformat_minor": 2
}
