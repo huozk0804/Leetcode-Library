{
 "cells": [
  {
   "cell_type": "markdown",
   "metadata": {},
   "source": [
    "## 1486. 数组异或操作\n",
    "\n",
    "给你两个整数，`n` 和 `start` 。\n",
    "\n",
    "数组 `nums` 定义为：`nums[i] = start + 2*i`（下标从 0 开始）且 `n == nums.length` 。\n",
    "\n",
    "请返回 `nums` 中所有元素按位异或（XOR）后得到的结果。\n",
    "\n",
    " \n",
    "\n",
    "示例 1：\n",
    "\n",
    "```\n",
    "输入：n = 5, start = 0\n",
    "输出：8\n",
    "解释：数组 nums 为 [0, 2, 4, 6, 8]，其中 (0 ^ 2 ^ 4 ^ 6 ^ 8) = 8 。\n",
    "     \"^\" 为按位异或 XOR 运算符。\n",
    "```\n",
    "\n",
    "示例 2：\n",
    "\n",
    "```\n",
    "输入：n = 4, start = 3\n",
    "输出：8\n",
    "解释：数组 nums 为 [3, 5, 7, 9]，其中 (3 ^ 5 ^ 7 ^ 9) = 8.\n",
    "```\n",
    "\n",
    "示例 3：\n",
    "\n",
    "```\n",
    "输入：n = 1, start = 7\n",
    "输出：7\n",
    "```\n",
    "\n",
    "示例 4：\n",
    "\n",
    "```\n",
    "输入：n = 10, start = 5\n",
    "输出：2\n",
    "```"
   ]
  },
  {
   "cell_type": "code",
   "execution_count": 9,
   "metadata": {},
   "outputs": [
    {
     "data": {
      "text/plain": [
       "2"
      ]
     },
     "execution_count": 9,
     "metadata": {},
     "output_type": "execute_result"
    }
   ],
   "source": [
    "class Solution(object):\n",
    "    def xorOperation(self, n, start):\n",
    "        \"\"\"\n",
    "        :type n: int\n",
    "        :type start: int\n",
    "        :rtype: int\n",
    "        \"\"\"\n",
    "        arr = [0] * n\n",
    "        result = 0\n",
    "        for i in range(n):\n",
    "            arr[i] = start + 2 * i\n",
    "            result = arr[i] if i == 0 else arr[i] ^ result\n",
    "        return result\n",
    "\n",
    "Solution().xorOperation(10,5)"
   ]
  },
  {
   "cell_type": "code",
   "execution_count": 10,
   "metadata": {},
   "outputs": [
    {
     "data": {
      "text/plain": [
       "2"
      ]
     },
     "execution_count": 10,
     "metadata": {},
     "output_type": "execute_result"
    }
   ],
   "source": [
    "class Solution(object):\n",
    "    def xorOperation(self, n, start):\n",
    "        \"\"\"\n",
    "        :type n: int\n",
    "        :type start: int\n",
    "        :rtype: int\n",
    "        \"\"\"\n",
    "        sum = 0\n",
    "        for i in range(n):\n",
    "            sum=sum^(start + 2 * i)\n",
    "\n",
    "        return sum\n",
    "\n",
    "Solution().xorOperation(10,5)"
   ]
  }
 ],
 "metadata": {
  "kernelspec": {
   "display_name": "Python 3.9.16 ('base')",
   "language": "python",
   "name": "python3"
  },
  "language_info": {
   "codemirror_mode": {
    "name": "ipython",
    "version": 3
   },
   "file_extension": ".py",
   "mimetype": "text/x-python",
   "name": "python",
   "nbconvert_exporter": "python",
   "pygments_lexer": "ipython3",
   "version": "3.9.16"
  },
  "orig_nbformat": 4,
  "vscode": {
   "interpreter": {
    "hash": "ced987a247890006fadb174404bf884c2606133e9ca5a8bdda00b49ca7b4dc36"
   }
  }
 },
 "nbformat": 4,
 "nbformat_minor": 2
}
