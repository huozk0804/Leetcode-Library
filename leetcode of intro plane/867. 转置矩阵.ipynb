{
 "cells": [
  {
   "cell_type": "markdown",
   "metadata": {},
   "source": [
    "## 867. 转置矩阵\n",
    "\n",
    "给你一个二维整数数组 matrix， 返回 matrix 的 转置矩阵 。\n",
    "\n",
    "矩阵的 转置 是指将矩阵的主对角线翻转，交换矩阵的行索引与列索引。\n",
    "\n",
    "![](https://assets.leetcode.com/uploads/2021/02/10/hint_transpose.png)\n",
    "\n",
    "示例 1：\n",
    "\n",
    "```\n",
    "输入：matrix = [[1,2,3],[4,5,6],[7,8,9]]\n",
    "输出：[[1,4,7],[2,5,8],[3,6,9]]\n",
    "```\n",
    "\n",
    "示例 2：\n",
    "\n",
    "```\n",
    "输入：matrix = [[1,2,3],[4,5,6]]\n",
    "输出：[[1,4],[2,5],[3,6]]\n",
    "```"
   ]
  },
  {
   "cell_type": "code",
   "execution_count": null,
   "metadata": {},
   "outputs": [],
   "source": [
    "class Solution(object):\n",
    "    def transpose(self, matrix):\n",
    "        \"\"\"\n",
    "        :type matrix: List[List[int]]\n",
    "        :rtype: List[List[int]]\n",
    "        \"\"\"\n",
    "        m,n = len(matrix), len(matrix[0])\n",
    "        t = [[0] * m for _ in range(n)]\n",
    "        for i in range(m):\n",
    "            for j in range(n):\n",
    "                t[j][i] = matrix[i][j]\n",
    "        \n",
    "        return t"
   ]
  },
  {
   "cell_type": "markdown",
   "metadata": {},
   "source": [
    "如果矩阵 $matrix$为$m$行$n$列，则转置后的矩阵 $matrix^{T}$ 为$n$行$m$列，且对任意0 ≤ $i$ < $m$ 和 0 ≤ $j$ < $n$ 都有 $matrix^{T}[j][i] = matrix[i][j]$。\n",
    "\n",
    "创建一个 nnn 行 mmm 列的新矩阵，根据转置的规则对新矩阵中的每个元素赋值，则新矩阵为转置后的矩阵。"
   ]
  }
 ],
 "metadata": {
  "language_info": {
   "name": "python"
  },
  "orig_nbformat": 4
 },
 "nbformat": 4,
 "nbformat_minor": 2
}
