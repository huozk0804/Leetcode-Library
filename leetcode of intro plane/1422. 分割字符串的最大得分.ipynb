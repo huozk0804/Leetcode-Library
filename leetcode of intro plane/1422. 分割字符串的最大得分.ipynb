{
 "cells": [
  {
   "cell_type": "markdown",
   "metadata": {},
   "source": [
    "## 1422. 分割字符串的最大得分\n",
    "\n",
    "给你一个由若干 0 和 1 组成的字符串 s ，请你计算并返回将该字符串分割成两个 非空 子字符串（即 左 子字符串和 右 子字符串）所能获得的最大得分。\n",
    "\n",
    "「分割字符串的得分」为 左 子字符串中 0 的数量加上 右 子字符串中 1 的数量。\n",
    "\n",
    "示例 1：\n",
    "\n",
    "```\n",
    "输入：s = \"011101\"\n",
    "输出：5 \n",
    "解释：\n",
    "将字符串 s 划分为两个非空子字符串的可行方案有：\n",
    "左子字符串 = \"0\" 且 右子字符串 = \"11101\"，得分 = 1 + 4 = 5 \n",
    "左子字符串 = \"01\" 且 右子字符串 = \"1101\"，得分 = 1 + 3 = 4 \n",
    "左子字符串 = \"011\" 且 右子字符串 = \"101\"，得分 = 1 + 2 = 3 \n",
    "左子字符串 = \"0111\" 且 右子字符串 = \"01\"，得分 = 1 + 1 = 2 \n",
    "左子字符串 = \"01110\" 且 右子字符串 = \"1\"，得分 = 2 + 1 = 3\n",
    "```\n",
    "示例 2：\n",
    "\n",
    "```\n",
    "输入：s = \"00111\"\n",
    "输出：5\n",
    "解释：当 左子字符串 = \"00\" 且 右子字符串 = \"111\" 时，我们得到最大得分 = 2 + 3 = 5\n",
    "```\n",
    "示例 3：\n",
    "\n",
    "```\n",
    "输入：s = \"1111\"\n",
    "输出：3\n",
    "```"
   ]
  },
  {
   "cell_type": "code",
   "execution_count": 1,
   "metadata": {},
   "outputs": [
    {
     "data": {
      "text/plain": [
       "11"
      ]
     },
     "execution_count": 1,
     "metadata": {},
     "output_type": "execute_result"
    }
   ],
   "source": [
    "class Solution(object):\n",
    "    def maxScore(self, s):\n",
    "        \"\"\"\n",
    "        :type s: str\n",
    "        :rtype: int\n",
    "        \"\"\"\n",
    "        ans = score = (s[0] == '0') + s[1:].count('1')\n",
    "        for i in s[1:-1]:\n",
    "            score += 1 if i == '0' else -1\n",
    "            ans = max(ans, score)\n",
    "        \n",
    "        return ans\n",
    "\n",
    "Solution.maxScore(1,'000011101010101')"
   ]
  },
  {
   "cell_type": "markdown",
   "metadata": {},
   "source": [
    "对于每个分割点遍历整个字符串计算分割字符串的得分。可以换一个角度思考，如果分割点从左到右移动一位，则位于原分割点处的字符从右子字符串中移除并添加到左子字符串中，根据该字符的值更新分割字符串的得分。\n",
    "\n",
    "当 $1≤i<n$ 时，分割点 i 将字符串 s 分割成两个非空子字符串，左子字符串的下标范围是 $[0,i−1]$，右子字符串的下标范围是 $[i,n−1]$。对于 $1≤i<n−1$，当分割点从 i 移动到 i+1 时，位于下标 i 处的字符 s[i] 从右子字符串中移除并添加到左子字符串中，分割字符串的得分变化如下：\n",
    "\n",
    "如果 s[i]=0，则左子字符串的得分加 1，右子字符串的得分不变，因此分割字符串的得分加 1；\n",
    "\n",
    "如果 s[i]=1，则左子字符串的得分不变，右子字符串的得分减 1，因此分割字符串的得分减 1。\n",
    "\n",
    "由于最左侧的分割点是 i=1，因此首先计算 i=1 处的分割字符串的得分，然后从左到右依次遍历每个分割点，遍历过程中更新分割字符串的得分，遍历结束之后即可得到分割字符串的最大得分。"
   ]
  }
 ],
 "metadata": {
  "kernelspec": {
   "display_name": "Python 3.9.16 ('base')",
   "language": "python",
   "name": "python3"
  },
  "language_info": {
   "codemirror_mode": {
    "name": "ipython",
    "version": 3
   },
   "file_extension": ".py",
   "mimetype": "text/x-python",
   "name": "python",
   "nbconvert_exporter": "python",
   "pygments_lexer": "ipython3",
   "version": "3.9.16"
  },
  "orig_nbformat": 4,
  "vscode": {
   "interpreter": {
    "hash": "ced987a247890006fadb174404bf884c2606133e9ca5a8bdda00b49ca7b4dc36"
   }
  }
 },
 "nbformat": 4,
 "nbformat_minor": 2
}
