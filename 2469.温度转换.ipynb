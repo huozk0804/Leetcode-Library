{
 "cells": [
  {
   "cell_type": "markdown",
   "metadata": {},
   "source": [
    "## 2469.温度转换\n",
    "\n",
    "给你一个四舍五入到两位小数的非负浮点数 celsius 来表示温度，以 **摄氏度（Celsius）**为单位。\n",
    "\n",
    "你需要将摄氏度转换为 **开氏度（Kelvin）** 和 **华氏度（Fahrenheit）**，并以数组 ans = [kelvin, fahrenheit] 的形式返回结果。\n",
    "\n",
    "返回数组 ans 。与实际答案误差不超过 10-5 的会视为正确答案。\n",
    "\n",
    "注意：\n",
    "\n",
    "* `开氏度 = 摄氏度 + 273.15`\n",
    "* `华氏度 = 摄氏度 * 1.80 + 32.00`\n",
    " \n",
    "\n",
    "示例 1 ：\n",
    "\n",
    "```\n",
    "输入：celsius = 36.50\n",
    "输出：[309.65000,97.70000]\n",
    "解释：36.50 摄氏度：转换为开氏度是 309.65 ，转换为华氏度是 97.70 。\n",
    "```\n",
    "\n",
    "示例 2 ：\n",
    "\n",
    "```\n",
    "输入：celsius = 122.11\n",
    "输出：[395.26000,251.79800]\n",
    "解释：122.11 摄氏度：转换为开氏度是 395.26 ，转换为华氏度是 251.798 。\n",
    "```"
   ]
  },
  {
   "cell_type": "code",
   "execution_count": 1,
   "metadata": {},
   "outputs": [],
   "source": [
    "class Solution(object):\n",
    "    def convertTemperature(self, celsius):\n",
    "        \"\"\"\n",
    "        :type celsius: float\n",
    "        :rtype: List[float]\n",
    "        \"\"\"\n",
    "        return [celsius + 273.15, celsius * 1.80 + 32.00]"
   ]
  }
 ],
 "metadata": {
  "kernelspec": {
   "display_name": "Python 3.9.16 ('base')",
   "language": "python",
   "name": "python3"
  },
  "language_info": {
   "codemirror_mode": {
    "name": "ipython",
    "version": 3
   },
   "file_extension": ".py",
   "mimetype": "text/x-python",
   "name": "python",
   "nbconvert_exporter": "python",
   "pygments_lexer": "ipython3",
   "version": "3.9.16"
  },
  "orig_nbformat": 4,
  "vscode": {
   "interpreter": {
    "hash": "ced987a247890006fadb174404bf884c2606133e9ca5a8bdda00b49ca7b4dc36"
   }
  }
 },
 "nbformat": 4,
 "nbformat_minor": 2
}
