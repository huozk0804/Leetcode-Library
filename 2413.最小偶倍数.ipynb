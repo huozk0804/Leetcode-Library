{
 "cells": [
  {
   "cell_type": "markdown",
   "metadata": {},
   "source": [
    "## 2413.最小偶倍数\n",
    "\n",
    "给你一个正整数 `n` ，返回 2 和 n 的最小公倍数（正整数）。\n",
    " \n",
    "示例 1：\n",
    "\n",
    "```\n",
    "输入：n = 5\n",
    "输出：10\n",
    "解释：5 和 2 的最小公倍数是 10 。\n",
    "```\n",
    "\n",
    "示例 2：\n",
    "\n",
    "```\n",
    "输入：n = 6\n",
    "输出：6\n",
    "解释：6 和 2 的最小公倍数是 6 。注意数字会是它自身的倍数。\n",
    "```"
   ]
  },
  {
   "cell_type": "code",
   "execution_count": null,
   "metadata": {},
   "outputs": [],
   "source": [
    "class Solution(object):\n",
    "    def smallestEvenMultiple(self, n):\n",
    "        \"\"\"\n",
    "        :type n: int\n",
    "        :rtype: int\n",
    "        \"\"\"\n",
    "        return n if n % 2 == 0 else 2*n"
   ]
  }
 ],
 "metadata": {
  "language_info": {
   "name": "python"
  },
  "orig_nbformat": 4
 },
 "nbformat": 4,
 "nbformat_minor": 2
}
